{
  "nbformat": 4,
  "nbformat_minor": 0,
  "metadata": {
    "colab": {
      "name": "MLclassification.ipynb",
      "provenance": [],
      "collapsed_sections": [],
      "authorship_tag": "ABX9TyOXY+09gRUFPMypqdCmh/3P",
      "include_colab_link": true
    },
    "kernelspec": {
      "name": "python3",
      "display_name": "Python 3"
    },
    "accelerator": "TPU"
  },
  "cells": [
    {
      "cell_type": "markdown",
      "metadata": {
        "id": "view-in-github",
        "colab_type": "text"
      },
      "source": [
        "<a href=\"https://colab.research.google.com/github/NeelSagar39/Covid-19_analysis/blob/main/Experiment-2(classification).ipynb\" target=\"_parent\"><img src=\"https://colab.research.google.com/assets/colab-badge.svg\" alt=\"Open In Colab\"/></a>"
      ]
    },
    {
      "cell_type": "code",
      "metadata": {
        "colab": {
          "base_uri": "https://localhost:8080/"
        },
        "id": "YMMA2jwr6c86",
        "outputId": "e5300b8b-04f5-4eaf-884a-7a32d6046995"
      },
      "source": [
        "import csv, urllib.request\r\n",
        "import numpy as np\r\n",
        "import pandas as pd\r\n",
        "data = []\r\n",
        "for i in range(3,21):\r\n",
        "  url = 'https://api.covid19india.org/csv/latest/raw_data'+str(i)+'.csv'\r\n",
        "  response = urllib.request.urlopen(url)\r\n",
        "  lines = [l.decode('utf-8') for l in response.readlines()]\r\n",
        "  cr = csv.reader(lines)\r\n",
        "  for row in cr:\r\n",
        "      #print(row)\r\n",
        "      data.append(row)\r\n",
        "  \r\n",
        "data = pd.DataFrame(data[1::],columns=data[0])\r\n",
        "print(data.iloc[0])"
      ],
      "execution_count": 52,
      "outputs": [
        {
          "output_type": "stream",
          "text": [
            "Entry_ID                                                   1\n",
            "State Patient Number                                        \n",
            "Date Announced                                    27/04/2020\n",
            "Age Bracket                                                 \n",
            "Gender                                                      \n",
            "Detected City                                               \n",
            "Detected District                                           \n",
            "Detected State                                   West Bengal\n",
            "State code                                                WB\n",
            "Num Cases                                                 38\n",
            "Current Status                                  Hospitalized\n",
            "Contracted from which Patient (Suspected)                   \n",
            "Notes                                        Details awaited\n",
            "Source_1                                        mohfw.gov.in\n",
            "Source_2                                                    \n",
            "Source_3                                                    \n",
            "Nationality                                                 \n",
            "Type of transmission                                        \n",
            "Status Change Date                                          \n",
            "Patient Number                                         27892\n",
            "Name: 0, dtype: object\n"
          ],
          "name": "stdout"
        }
      ]
    },
    {
      "cell_type": "code",
      "metadata": {
        "colab": {
          "base_uri": "https://localhost:8080/"
        },
        "id": "I6Mc2XsX-h__",
        "outputId": "2334aaee-ed41-4848-8408-928027b42e33"
      },
      "source": [
        "data.columns = data.columns.str.strip().str.lower().str.replace(' ', '_').str.replace('(', '').str.replace(')', '')\r\n",
        "data = data[data.gender!='']\r\n",
        "data = data[data.gender!='Non-Binary']\r\n",
        "data = data[data.gender!='Gender']\r\n",
        "data = data[data.gender!='NA']\r\n",
        "data = data[data.gender!='M ']\r\n",
        "data = data[data.gender!='M,']\r\n",
        "data = data[data.gender!='Femal e']\r\n",
        "data = data[data.current_status!='Migrated_Other']\r\n",
        "data1 = data.drop(\r\n",
        "    columns=[\"contracted_from_which_patient_suspected\",\"notes\",\"source_1\",\"source_2\",\"source_3\",\"state_patient_number\",\"entry_id\",\r\n",
        "             \"date_announced\",\"detected_district\",\"detected_city\",\"num_cases\",\"type_of_transmission\",\"nationality\",\"patient_number\",\r\n",
        "             \"status_change_date\",\"state_code\"\r\n",
        "    ]\r\n",
        ")\r\n",
        "data1 = data1.replace('Hospitalized','Recovered')\r\n",
        "data1['age_bracket'] = pd.to_numeric(data1['age_bracket'],errors='coerce')\r\n",
        "data1['age_bracket'] = data1[data1.age_bracket!='Nan']\r\n",
        "print(data1)\r\n"
      ],
      "execution_count": 53,
      "outputs": [
        {
          "output_type": "stream",
          "text": [
            "       age_bracket gender detected_state current_status\n",
            "3               28      M      Rajasthan       Deceased\n",
            "9               15      F          Bihar      Recovered\n",
            "10              55      F         Odisha      Recovered\n",
            "11              22      F         Odisha      Recovered\n",
            "12              23      F         Odisha      Recovered\n",
            "...            ...    ...            ...            ...\n",
            "427211          75      M         Odisha       Deceased\n",
            "427212          78      F         Odisha       Deceased\n",
            "427478          57      M     Chandigarh       Deceased\n",
            "428258          76      M        Manipur       Deceased\n",
            "428259          75      M        Manipur       Deceased\n",
            "\n",
            "[114069 rows x 4 columns]\n"
          ],
          "name": "stdout"
        }
      ]
    },
    {
      "cell_type": "code",
      "metadata": {
        "colab": {
          "base_uri": "https://localhost:8080/"
        },
        "id": "14BJv_PqhETW",
        "outputId": "370eb9ff-8664-44c4-ba6a-8c90d347c59b"
      },
      "source": [
        "def gender_encode():\r\n",
        "  from sklearn.preprocessing import LabelEncoder\r\n",
        "  print(data1['gender'].unique())\r\n",
        "  labelencoder = LabelEncoder()\r\n",
        "  data1['gender'] = labelencoder.fit_transform(data1['gender'])\r\n",
        "  print(data1['gender'].unique())\r\n",
        "def state_encode():\r\n",
        "  from sklearn.preprocessing import LabelEncoder\r\n",
        "  labelencoder = LabelEncoder()\r\n",
        "  print(data1['detected_state'].unique())\r\n",
        "  data1['detected_state'] = labelencoder.fit_transform(data1['detected_state'])\r\n",
        "  print(data1['detected_state'].unique())\r\n",
        "def status_encode():\r\n",
        "  from sklearn.preprocessing import LabelEncoder\r\n",
        "  print(data1['current_status'].unique())\r\n",
        "  labelencoder = LabelEncoder()\r\n",
        "  data1['current_status'] = labelencoder.fit_transform(data1['current_status'])\r\n",
        "  print(data1['current_status'].unique())\r\n",
        "\r\n",
        "gender_encode()\r\n",
        "state_encode()\r\n",
        "status_encode()\r\n",
        "X = data1[['age_bracket','gender','detected_state']]\r\n",
        "X1 = X.iloc[:,0]\r\n",
        "X2 = X.iloc[:,1]\r\n",
        "X3 = X.iloc[:,2]\r\n",
        "y = np.array(data1[['current_status']])\r\n",
        "print(data1.iloc[9])"
      ],
      "execution_count": 54,
      "outputs": [
        {
          "output_type": "stream",
          "text": [
            "['M' 'F']\n",
            "[1 0]\n",
            "['Rajasthan' 'Bihar' 'Odisha' 'Karnataka' 'Punjab' 'Kerala' 'Chandigarh'\n",
            " 'Tamil Nadu' 'Gujarat' 'Assam' 'Maharashtra' 'Jammu and Kashmir'\n",
            " 'Chhattisgarh' 'Haryana' 'Uttar Pradesh' 'Telangana' 'Uttarakhand'\n",
            " 'Delhi' 'Dadra and Nagar Haveli and Daman and Diu' 'Himachal Pradesh'\n",
            " 'Mizoram' 'West Bengal' 'Jharkhand' 'Manipur' 'Puducherry'\n",
            " 'Arunachal Pradesh' 'Nagaland' 'Sikkim' 'Andaman and Nicobar Islands'\n",
            " 'Goa' 'Meghalaya']\n",
            "[24  3 21 14 23 15  4 26  9  2 16 12  5 10 28 27 29  7  6 11 19 30 13 17\n",
            " 22  1 20 25  0  8 18]\n",
            "['Deceased' 'Recovered']\n",
            "[0 1]\n",
            "age_bracket       17\n",
            "gender             0\n",
            "detected_state     3\n",
            "current_status     1\n",
            "Name: 100, dtype: object\n"
          ],
          "name": "stdout"
        }
      ]
    },
    {
      "cell_type": "code",
      "metadata": {
        "colab": {
          "base_uri": "https://localhost:8080/",
          "height": 295
        },
        "id": "WEM3JzhJkSyj",
        "outputId": "a5974797-7669-4335-eb85-5d132afbb87f"
      },
      "source": [
        "import matplotlib.pyplot as plt\r\n",
        "\r\n",
        "def plotter(X1,X2,X3,Y):\r\n",
        "  fig = plt.figure()\r\n",
        "  #ax = fig.add_subplot(111, projection='3d')\r\n",
        "\r\n",
        "  x = np.array(X1)[:500]\r\n",
        "  y = np.array(X3)[:500]\r\n",
        "  z = np.array(X2)[:500]\r\n",
        "  c = Y[:500]\r\n",
        "  for i in range(0,len(y)):\r\n",
        "    if Y[i]==0 and z[i]==0:\r\n",
        "      #print('help')\r\n",
        "      dm = plt.scatter(x[i],y[i],c='red',marker='+') \r\n",
        "    elif Y[i]==1 and z[i]==0:\r\n",
        "      am = plt.scatter(x[i],y[i],c='blue',marker='+') \r\n",
        "    elif Y[i]==0 and z[i]==1:\r\n",
        "      df = plt.scatter(x[i],y[i],c='red',marker='o') \r\n",
        "    elif Y[i]==1 and z[i]==1:\r\n",
        "      af = plt.scatter(x[i],y[i],c='blue',marker='o')\r\n",
        "  plt.xlabel('Age') \r\n",
        "  plt.ylabel('States') \r\n",
        "  plt.legend((dm,am,df,af),('Deceased Male','Recovered Male','Deceased Female','Recovered Female'))\r\n",
        "  plt.title('500 sample Data')\r\n",
        "  #img = ax.scatter(x, y, z,c=c,cmap='bwr')\r\n",
        "  #fig.colorbar(img)\r\n",
        "  plt.show()\r\n",
        "plotter(X1,X2,X3,y)"
      ],
      "execution_count": 20,
      "outputs": [
        {
          "output_type": "display_data",
          "data": {
            "image/png": "[encoded data removed]",
            "text/plain": [
              "<Figure size 432x288 with 1 Axes>"
            ]
          },
          "metadata": {
            "tags": [],
            "needs_background": "light"
          }
        }
      ]
    },
    {
      "cell_type": "code",
      "metadata": {
        "colab": {
          "base_uri": "https://localhost:8080/"
        },
        "id": "IGkCgwNK9QUg",
        "outputId": "d52693ab-aa30-4906-ac76-43ca98bc377b"
      },
      "source": [
        "X = np.column_stack((X1,X2,X3))\r\n",
        "X = np.array(X, dtype=np.float64)\r\n",
        "X = np.nan_to_num(X)\r\n",
        "y = np.ravel(y)\r\n",
        "print(np.unique(pd.isna(X)))\r\n",
        "from sklearn.neighbors import KNeighborsClassifier\r\n",
        "neigh = KNeighborsClassifier(n_neighbors=3)\r\n",
        "neigh.fit(X,y)\r\n",
        "neigh.get_params"
      ],
      "execution_count": 57,
      "outputs": [
        {
          "output_type": "stream",
          "text": [
            "[False]\n"
          ],
          "name": "stdout"
        },
        {
          "output_type": "execute_result",
          "data": {
            "text/plain": [
              "<bound method BaseEstimator.get_params of KNeighborsClassifier(algorithm='auto', leaf_size=30, metric='minkowski',\n",
              "                     metric_params=None, n_jobs=None, n_neighbors=3, p=2,\n",
              "                     weights='uniform')>"
            ]
          },
          "metadata": {
            "tags": []
          },
          "execution_count": 57
        }
      ]
    },
    {
      "cell_type": "code",
      "metadata": {
        "colab": {
          "base_uri": "https://localhost:8080/",
          "height": 463
        },
        "id": "ZAsWfQdoBy7d",
        "outputId": "90cdf778-449b-49dd-9346-6211b00db1f0"
      },
      "source": [
        "from sklearn.model_selection import KFold\r\n",
        "from sklearn.metrics import f1_score\r\n",
        "from sklearn.metrics import roc_auc_score\r\n",
        "from sklearn.model_selection import cross_val_score\r\n",
        "\r\n",
        "K_fold = 10\r\n",
        "def Knn_function(N, K_fold,X_array,Y):\r\n",
        "  mean_array=[]\r\n",
        "  x = X_array \r\n",
        "  std_array=[]\r\n",
        "  fold = K_fold\r\n",
        "  for n in N:\r\n",
        "    small_array=[]\r\n",
        "    kf = KFold(n_splits=fold)\r\n",
        "    for train, test in kf.split(x):\r\n",
        "      from sklearn.neighbors import KNeighborsClassifier\r\n",
        "      model = KNeighborsClassifier(n_neighbors = n).fit(x[train], Y[train])\r\n",
        "      ypred = model.predict(x[test])\r\n",
        "      #scores = cross_val_score(model, x[test], y[test], cv=5, scoring='roc_auc')\r\n",
        "      #scores = f1_score(y[test],ypred)\r\n",
        "      #scores = roc_auc_score(y[test],ypred)\r\n",
        "      scores = model.score(x[test],y[test])\r\n",
        "      small_array.append(scores)\r\n",
        "    mean_array.append(np.array(small_array).mean())\r\n",
        "    std_array.append(np.array(small_array).std())\r\n",
        "    print(\"when n = \"+ str(n)+\" Mean Accuracy = \"+str(np.array(small_array).mean())+\" Std = \"+str(np.array(small_array).std()))\r\n",
        "  return mean_array,std_array\r\n",
        "mean_array2,std_array2 = Knn_function([2,4,6,8,10,20,50,100,200,500], K_fold, X,y)\r\n",
        "plt.errorbar([2,4,6,8,10,20,50,100,200,500],mean_array2,yerr= std_array2)\r\n",
        "plt.xlabel('K neighbors')\r\n",
        "plt.ylabel('Accuracy')\r\n",
        "plt.legend(['Standard Deviation'])\r\n",
        "plt.title('Accuracy vs K neighbors')\r\n",
        "plt.savefig('Knn.png')\r\n",
        "plt.show()"
      ],
      "execution_count": 37,
      "outputs": [
        {
          "output_type": "stream",
          "text": [
            "when n = 2 Mean Accuracy = 0.8670512756601536 Std = 0.11685092148003776\n",
            "when n = 4 Mean Accuracy = 0.8982684509717686 Std = 0.14101990320151833\n",
            "when n = 6 Mean Accuracy = 0.9036768792864022 Std = 0.16166538450862397\n",
            "when n = 8 Mean Accuracy = 0.9050180602701555 Std = 0.16598504399551878\n",
            "when n = 10 Mean Accuracy = 0.9061399722855373 Std = 0.1740456386324229\n",
            "when n = 20 Mean Accuracy = 0.9066830093669239 Std = 0.19232909118183455\n",
            "when n = 50 Mean Accuracy = 0.9106015912504605 Std = 0.19592024958462476\n",
            "when n = 100 Mean Accuracy = 0.9033860153148485 Std = 0.22036107721155557\n",
            "when n = 200 Mean Accuracy = 0.9036490117205641 Std = 0.2204310310841706\n",
            "when n = 500 Mean Accuracy = 0.9014135422719798 Std = 0.21967076330311192\n"
          ],
          "name": "stdout"
        },
        {
          "output_type": "display_data",
          "data": {
            "image/png": "[encoded data removed]",
            "text/plain": [
              "<Figure size 432x288 with 1 Axes>"
            ]
          },
          "metadata": {
            "tags": [],
            "needs_background": "light"
          }
        }
      ]
    },
    {
      "cell_type": "code",
      "metadata": {
        "colab": {
          "base_uri": "https://localhost:8080/",
          "height": 396
        },
        "id": "bbDs9drIQAwZ",
        "outputId": "ffe31767-885c-446e-c4c1-07647180110c"
      },
      "source": [
        "from sklearn.model_selection import KFold\r\n",
        "from sklearn.metrics import f1_score\r\n",
        "from sklearn.model_selection import cross_val_score\r\n",
        "\r\n",
        "K_fold = 10\r\n",
        "def Ci_function(C, K_fold,X_array,Y):\r\n",
        "  mean_array=[]\r\n",
        "  x = X_array \r\n",
        "  std_array=[]\r\n",
        "  fold = K_fold\r\n",
        "  for c in C:\r\n",
        "    small_array=[]\r\n",
        "    kf = KFold(n_splits=10)\r\n",
        "    for train, test in kf.split(x):\r\n",
        "      from sklearn.linear_model import LogisticRegression\r\n",
        "      model = LogisticRegression(C=c).fit(x[train], Y[train])\r\n",
        "      ypred = model.predict(x[test])\r\n",
        "      #scores = f1_score(Y[test],ypred)\r\n",
        "      scores = model.score(x[test],Y[test])\r\n",
        "      small_array.append(scores)\r\n",
        "    mean_array.append(np.array(small_array).mean())\r\n",
        "    std_array.append(np.array(small_array).std())\r\n",
        "    print(\"when c = \"+ str(c)+\" Mean Accuracy = \"+str(np.array(small_array).mean())+\" Std = \"+str(np.array(small_array).std()))\r\n",
        "  return mean_array,std_array\r\n",
        "C=[0.000001,0.00001,0.0001,0.001,0.05,0.1]\r\n",
        "mean_array,std_array = Ci_function(C,K_fold,X,y)\r\n",
        "plt.errorbar(C,mean_array,yerr= std_array)\r\n",
        "plt.xlabel('Ci')\r\n",
        "plt.ylabel('Accuracy')\r\n",
        "plt.legend(['Standard Deviation'])\r\n",
        "plt.title('Accuracy vs Ci')\r\n",
        "plt.savefig('Accuracy.png')\r\n",
        "plt.show()"
      ],
      "execution_count": 38,
      "outputs": [
        {
          "output_type": "stream",
          "text": [
            "when c = 1e-06 Mean Accuracy = 0.903868175391994 Std = 0.22050200443340717\n",
            "when c = 1e-05 Mean Accuracy = 0.894742200113656 Std = 0.21745170775725584\n",
            "when c = 0.0001 Mean Accuracy = 0.8920333371347835 Std = 0.21658200387544901\n",
            "when c = 0.001 Mean Accuracy = 0.8917265079947818 Std = 0.21648050279266512\n",
            "when c = 0.05 Mean Accuracy = 0.8916037763387811 Std = 0.21644164770983143\n",
            "when c = 0.1 Mean Accuracy = 0.8916037763387811 Std = 0.21644164770983143\n"
          ],
          "name": "stdout"
        },
        {
          "output_type": "display_data",
          "data": {
            "image/png": "[encoded data removed]",
            "text/plain": [
              "<Figure size 432x288 with 1 Axes>"
            ]
          },
          "metadata": {
            "tags": [],
            "needs_background": "light"
          }
        }
      ]
    },
    {
      "cell_type": "code",
      "metadata": {
        "id": "LLaN07QYInOQ"
      },
      "source": [
        "def baseline_model(X):\r\n",
        "  return np.ones(X.shape[0])"
      ],
      "execution_count": 44,
      "outputs": []
    },
    {
      "cell_type": "code",
      "metadata": {
        "id": "loIczgjXGhGB"
      },
      "source": [
        "def predictor(model,X):\r\n",
        "  y_pred=[]\r\n",
        "  for i in range(0,len(X)):\r\n",
        "    pred = model.predict(X[i].reshape(1,-1))\r\n",
        "    y_pred.append(pred)\r\n",
        "  return y_pred"
      ],
      "execution_count": 41,
      "outputs": []
    },
    {
      "cell_type": "code",
      "metadata": {
        "id": "nvMRClEBFRRm"
      },
      "source": [
        "from sklearn.metrics import confusion_matrix\r\n",
        "from sklearn.neighbors import KNeighborsClassifier\r\n",
        "from sklearn.linear_model import LogisticRegression\r\n",
        "Knn = KNeighborsClassifier(n_neighbors = 50).fit(X, y) \r\n",
        "logistic_model = LogisticRegression(C=0.001).fit(X,y)\r\n",
        "Logi_y_pred = predictor(logistic_model, X)\r\n",
        "Knn_y_pred = predictor(Knn, X)\r\n",
        "baseline_y_pred = baseline_model(X)\r\n",
        "confusion_matrix2 = confusion_matrix(y,Knn_y_pred)\r\n",
        "confusion_matrix3 = confusion_matrix(y,baseline_y_pred)\r\n",
        "confusion_matrix1 = confusion_matrix(y,Logi_y_pred)"
      ],
      "execution_count": 46,
      "outputs": []
    },
    {
      "cell_type": "code",
      "metadata": {
        "colab": {
          "base_uri": "https://localhost:8080/"
        },
        "id": "5Gud3ElxX9iy",
        "outputId": "6e0cebf7-c5f2-4113-9bd5-421d950609ff"
      },
      "source": [
        "tn1, fp1, fn1, tp1 = confusion_matrix1.ravel()\r\n",
        "print('For Logistic Regression: Number of True Negatives: ',tn1,' False Positives: ',fp1,' False Negatives: ',fn1,' True Positives : ',tp1)"
      ],
      "execution_count": 47,
      "outputs": [
        {
          "output_type": "stream",
          "text": [
            "For Logistic Regression: Number of True Negatives:  1234  False Positives:  9522  False Negatives:  1267  True Positives :  102046\n"
          ],
          "name": "stdout"
        }
      ]
    },
    {
      "cell_type": "code",
      "metadata": {
        "colab": {
          "base_uri": "https://localhost:8080/"
        },
        "id": "phsHRLURGsEF",
        "outputId": "7fe08507-72d7-45da-c0dc-6dfe839446c7"
      },
      "source": [
        "tn2, fp2, fn2, tp2 = confusion_matrix2.ravel()\r\n",
        "print('For Knn: Number of True Negatives: ',tn2,' False Positives: ',fp2,' False Negatives: ',fn2,' True Positives : ',tp2)"
      ],
      "execution_count": 48,
      "outputs": [
        {
          "output_type": "stream",
          "text": [
            "For Knn: Number of True Negatives:  3831  False Positives:  6925  False Negatives:  247  True Positives :  103066\n"
          ],
          "name": "stdout"
        }
      ]
    },
    {
      "cell_type": "code",
      "metadata": {
        "colab": {
          "base_uri": "https://localhost:8080/"
        },
        "id": "_bL64onTIxVN",
        "outputId": "660ac87c-71c5-4727-c088-cbd13214b6ab"
      },
      "source": [
        "tn, fp, fn, tp = confusion_matrix3.ravel()\r\n",
        "print('For Baseline Model: Number of True Negatives: ',tn,' False Positives: ',fp,' False Negatives: ',fn,' True Positives : ',tp)"
      ],
      "execution_count": 50,
      "outputs": [
        {
          "output_type": "stream",
          "text": [
            "For Baseline Model: Number of True Negatives:  0  False Positives:  10756  False Negatives:  0  True Positives :  103313\n"
          ],
          "name": "stdout"
        }
      ]
    },
    {
      "cell_type": "code",
      "metadata": {
        "colab": {
          "base_uri": "https://localhost:8080/",
          "height": 330
        },
        "id": "2vhoM2IIHvbw",
        "outputId": "7897da66-b833-436c-aadf-eb767e0c129e"
      },
      "source": [
        "from sklearn.metrics import roc_curve\r\n",
        "False_Positive_rate,True_Positive_rate,_ = roc_curve(y,logistic_model.decision_function(X))\r\n",
        "False_Positive_rate2,True_Positive_rate2,_ = roc_curve(y,Knn.predict_proba(X)[:,1])\r\n",
        "False_Positive_rate3,True_Positive_rate3,_ = roc_curve(y,baseline_y_pred)\r\n",
        "\r\n",
        "plt.plot(False_Positive_rate,True_Positive_rate)\r\n",
        "plt.plot(False_Positive_rate2,True_Positive_rate2)\r\n",
        "plt.plot(False_Positive_rate3,True_Positive_rate3,linestyle='--')\r\n",
        "plt.rc('font', size=18); plt.rcParams['figure.constrained_layout.use'] = True\r\n",
        "plt.xlabel('False positive rate') \r\n",
        "plt.ylabel('True positive rate') \r\n",
        "plt.legend(['Logistic Regression','KNN Classifier', 'Baseline Model'])\r\n",
        "plt.title('Roc Curve')"
      ],
      "execution_count": 59,
      "outputs": [
        {
          "output_type": "execute_result",
          "data": {
            "text/plain": [
              "Text(0.5, 1.0, 'Roc Curve')"
            ]
          },
          "metadata": {
            "tags": []
          },
          "execution_count": 59
        },
        {
          "output_type": "display_data",
          "data": {
            "image/png": "[encoded data removed]",
            "text/plain": [
              "<Figure size 432x288 with 1 Axes>"
            ]
          },
          "metadata": {
            "tags": [],
            "needs_background": "light"
          }
        }
      ]
    },
    {
      "cell_type": "code",
      "metadata": {
        "id": "0OingdCVPrm7"
      },
      "source": [
        ""
      ],
      "execution_count": null,
      "outputs": []
    }
  ]
}